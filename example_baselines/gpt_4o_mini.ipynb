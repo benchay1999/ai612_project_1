{
  "nbformat": 4,
  "nbformat_minor": 0,
  "metadata": {
    "colab": {
      "provenance": []
    },
    "kernelspec": {
      "name": "python3",
      "display_name": "Python 3"
    },
    "language_info": {
      "name": "python"
    }
  },
  "cells": [
    {
      "cell_type": "markdown",
      "source": [
        "<!-- Original Implementation by Gyubok Lee -->\n",
        "<!-- Refined by Sunjun Kweon on 2024-01-15. -->\n",
        "<!-- Refined by Woosog Chay on 2025-02-21. -->\n",
        "<!-- Note: This Jupyter notebook is tailored to the unique requirements of the EHRSQL project. It includes specific modifications and additional adjustments to cater to the dataset and experiment objectives. -->\n",
        "\n",
        "# OpenAI Model (GPT-4o-mini) Sample Code for MIMIC-IV: Single-Turn Text-to-SQL with Abstention on Electronic Health Records\n",
        "\n",
        "\n",
        "<!-- ## Task Introduction\n",
        "The goal of the task is to **develop a reliable text-to-SQL system on EHR**. Unlike standard text-to-SQL tasks, this system must handle all types of questions, including answerable and unanswerable ones with respect to the EHR database structure. For answerable questions, the system must accurately generate SQL queries. For unanswerable questions, the system must correctly identify them as such, thereby preventing incorrect SQL predictions for infeasible questions. The range of questions includes answerable queries about MIMIC-IV, covering topics such as patient demographics, vital signs, and specific disease survival rates ([EHRSQL](https://github.com/glee4810/EHRSQL)). Additionally, there are specially designed unanswerable questions intended to challenge the system. Successfully completing this task will result in the creation of a reliable question-answering system for EHRs, significantly improving the flexibility and efficiency of clinical knowledge exploration in hospitals. -->\n",
        "\n",
        "## Steps of Baseline Code\n",
        "\n",
        "- [x] Step 0: Prerequisites (OpenAI API)\n",
        "- [x] Step 1: Clone the GitHub Repository and Install Dependencies\n",
        "- [x] Step 2: Import Global Packages and Define File Paths\n",
        "- [x] Step 3: Load Data and Prepare Datasets\n",
        "- [x] Step 4: Building a predictive model using chatGPT\n",
        "- [x] Step 5: Evaluation\n"
      ],
      "metadata": {
        "id": "fV7pV4ue_8Ug"
      }
    },
    {
      "cell_type": "markdown",
      "source": [
        "## Step 0 : Prerequisites (OpenAI API key)\n",
        "\n"
      ],
      "metadata": {
        "id": "kw9GLCf8EKb1"
      }
    },
    {
      "cell_type": "code",
      "source": [
        "import getpass\n",
        "from IPython.display import clear_output\n",
        "\n",
        "clear_output()\n",
        "# Please enter your API key\n",
        "new_api_key = ''\n",
        "while len(new_api_key) == 0:\n",
        "    new_api_key = getpass.getpass(\"Please input your API key: \")\n",
        "    clear_output()"
      ],
      "metadata": {
        "id": "_OqDSH_2ES8T"
      },
      "execution_count": 1,
      "outputs": []
    },
    {
      "cell_type": "markdown",
      "source": [
        "When submitting your code for code verification, please be sure to submit your OpenAI API key along with your code, like in the sample_submission_chatgpt_api_key.json."
      ],
      "metadata": {
        "id": "eh80GM31Yk-T"
      }
    },
    {
      "cell_type": "markdown",
      "source": [
        "## Step 1: Clone the GitHub Repository and Install Dependencies"
      ],
      "metadata": {
        "id": "76ZXSJhhAqZB"
      }
    },
    {
      "cell_type": "markdown",
      "source": [
        "Before you begin, make sure you're in the correct directory. If you need to reset the repository directory, remove the existing directory by uncommenting and executing the following lines:"
      ],
      "metadata": {
        "id": "S1hbegr4BADN"
      }
    },
    {
      "cell_type": "code",
      "source": [
        "%cd /content\n",
        "!rm -rf ai612_project_1"
      ],
      "metadata": {
        "colab": {
          "base_uri": "https://localhost:8080/"
        },
        "id": "vc_VUmzR_83L",
        "outputId": "c4296332-e6a3-4ade-9f2d-ff4476a6df87"
      },
      "execution_count": 2,
      "outputs": [
        {
          "output_type": "stream",
          "name": "stdout",
          "text": [
            "/content\n"
          ]
        }
      ]
    },
    {
      "cell_type": "markdown",
      "source": [
        "Now, clone the repository and install the required Python packages:"
      ],
      "metadata": {
        "id": "OBpg7kpMBEHI"
      }
    },
    {
      "cell_type": "code",
      "source": [
        "# Cloning the GitHub repository\n",
        "!git clone -q https://github.com/benchay1999/ai612_project_1.git\n",
        "%cd ai612_project_1\n",
        "\n",
        "# Installing dependencies\n",
        "!pip install -q tiktoken openai func_timeout"
      ],
      "metadata": {
        "colab": {
          "base_uri": "https://localhost:8080/"
        },
        "id": "tLOhRzcCBB_d",
        "outputId": "57b147ee-891d-471f-e298-f43aefe9b084"
      },
      "execution_count": 3,
      "outputs": [
        {
          "output_type": "stream",
          "name": "stdout",
          "text": [
            "/content/ai612_project_1\n",
            "\u001b[2K     \u001b[90m━━━━━━━━━━━━━━━━━━━━━━━━━━━━━━━━━━━━━━━━\u001b[0m \u001b[32m44.3/44.3 kB\u001b[0m \u001b[31m2.1 MB/s\u001b[0m eta \u001b[36m0:00:00\u001b[0m\n",
            "\u001b[?25h  Preparing metadata (setup.py) ... \u001b[?25l\u001b[?25hdone\n",
            "\u001b[2K   \u001b[90m━━━━━━━━━━━━━━━━━━━━━━━━━━━━━━━━━━━━━━━━\u001b[0m \u001b[32m1.2/1.2 MB\u001b[0m \u001b[31m20.8 MB/s\u001b[0m eta \u001b[36m0:00:00\u001b[0m\n",
            "\u001b[?25h  Building wheel for func_timeout (setup.py) ... \u001b[?25l\u001b[?25hdone\n"
          ]
        }
      ]
    },
    {
      "cell_type": "markdown",
      "source": [
        "Use the `%load_ext` magic command to automatically reload modules before executing a new line:"
      ],
      "metadata": {
        "id": "O5D2VbclBcJI"
      }
    },
    {
      "cell_type": "code",
      "source": [
        "%load_ext autoreload\n",
        "%autoreload 2"
      ],
      "metadata": {
        "id": "1ocUNohyBHUs"
      },
      "execution_count": 4,
      "outputs": []
    },
    {
      "cell_type": "markdown",
      "source": [
        "## Step 2: Import Global Packages and Define File Paths\n",
        "\n",
        "After setting up the repository and dependencies, the next step is to import packages that will be used globally throughout this notebook and to define the file paths to our datasets."
      ],
      "metadata": {
        "id": "wr2zM1EVBj-I"
      }
    },
    {
      "cell_type": "code",
      "source": [
        "import os\n",
        "import json\n",
        "import pandas as pd\n",
        "from tqdm import tqdm\n",
        "\n",
        "# Directory paths for database, results and scoring program\n",
        "DB_ID = 'mimic_iv'\n",
        "BASE_DATA_DIR = 'data'\n",
        "RESULT_DIR = 'results'\n",
        "SCORING_DIR = 'scoring'\n",
        "\n",
        "# File paths for the dataset and labels\n",
        "TABLES_PATH = os.path.join('database', 'tables.json')               # JSON containing database schema\n",
        "VALID_DATA_PATH = os.path.join(BASE_DATA_DIR, 'valid_data.json')    # JSON file for validation data\n",
        "VALID_LABEL_PATH = os.path.join(BASE_DATA_DIR, 'valid_label.json')  # JSON file for validation labels (for evaluation)\n",
        "DB_PATH = os.path.join('data', DB_ID, f'{DB_ID}.sqlite')            # Database path\n",
        "\n",
        "# Load data\n",
        "with open(os.path.join(VALID_DATA_PATH), 'r') as f:\n",
        "    valid_data = json.load(f)\n",
        "\n",
        "with open(os.path.join(VALID_LABEL_PATH), 'r') as f:\n",
        "    valid_labels = json.load(f)\n",
        "\n",
        "# Load SQL assumptions for MIMIC-IV\n",
        "assumptions = open(\"database/mimic_iv_assumption.txt\", \"r\").read()"
      ],
      "metadata": {
        "id": "PuvpWuLRBeo3"
      },
      "execution_count": 5,
      "outputs": []
    },
    {
      "cell_type": "code",
      "source": [
        "print(assumptions)"
      ],
      "metadata": {
        "colab": {
          "base_uri": "https://localhost:8080/"
        },
        "id": "5qEbwPmW-SdP",
        "outputId": "280b27d6-d612-4fcd-9bdd-90a94aa73183"
      },
      "execution_count": 6,
      "outputs": [
        {
          "output_type": "stream",
          "name": "stdout",
          "text": [
            "- Use SQLite for SQL query generation.\n",
            "- Use DENSE_RANK() when asked for ranking results, but retrieve only the relevant items, excluding their counts or ranks. When the question does not explicitly mention ranking, don't use DENSE_RANK().\n",
            "- For the top N results, return only the relevant items, excluding their counts.\n",
            "- Use DISTINCT in queries related to the cost of events, drug routes, or when counting or listing patients or hospital/ICU visits.\n",
            "- When calculating the total cost, sum the patient’s diagnoses, procedures, lab events, and prescription costs within a single hospital admission only.\n",
            "- Use DISTINCT to retrieve the cost of a single event (diagnosis, procedure, lab event, or prescription).\n",
            "- For cost-related questions, use cost.event_type to specify the event type ('procedures_icd', 'labevents', 'prescriptions', 'diagnoses_icd') when retrieving costs for procedures, lab events, prescriptions, or diagnoses, respectively.\n",
            "- Treat questions that start with \"is it possible,\" \"can you confirm,\" or \"verify\" as true/false questions.\n",
            "- Calculate a patient's age once per hospital admission. The age remains constant even if the hospital stay exceeds one year.\n",
            "- Use inputevents for input-related values and outputevents for output-related values.\n",
            "- Values are table-specific (e.g., \"propofol\" in inputevents will not appear in prescriptions).\n",
            "- When asked about the careunit, refer to the careunit information in the transfer table.\n",
            "- When asked to retrieve procedures, diagnoses, or lab tests, return their names or labels of their medical codes (i.e., procedure: d_icd_procedures.long_title, diagnosis: d_icd_diagnoses.long_title, lab test: d_labitems.label).\n",
            "- When a question involves the time of diagnosis in relation to other types of events, use the first diagnosis time for each patient.\n",
            "- When calculating the N-year survival/mortality rate:\n",
            "  - A patient is considered deceased if a death record exists between their first diagnosis and N years later.\n",
            "  - If no death record exists within N years, or if the death occurs afterward, the patient is considered to have survived.\n",
            "  - Express the result as a percentage or proportion (values between 0 and 1).\n",
            "  - \"3 months\" refers to 365/4 days, and \"6 months\" refers to 365/2 days when calculating a duration.\n",
            "- Time-related SQL operations:\n",
            "  - Use the following information for the current time instead of SQLite's native function.\n",
            "  - Use '2100-12-31 23:59:00' instead of 'now', '2100-12-31' instead of 'today', '2100-12' instead of 'this month', and '2100' instead of 'this year'.\n",
            "    - Examples:\n",
            "      - prescriptions today: datetime(prescriptions.starttime,'start of day') = datetime('2100-12-31 23:59:00','start of day','-0 day')\n",
            "      - prescriptions yesterday: datetime(prescriptions.starttime,'start of day') = datetime('2100-12-31 23:59:00','start of day','-1 day')\n",
            "  - \"this month/02\" and \"last month/02\" refer to the 2nd day of the current and previous month, respectively.\n",
            "    - Examples:\n",
            "      - outputevents on this month/02: datetime(outputevents.charttime,'start of month') = datetime('2100-12-31 23:59:00','start of month','-0 month') AND strftime('%d',outputevents.charttime) = '02'\n",
            "      - outputevents on last month/02: datetime(outputevents.charttime,'start of month') = datetime('2100-12-31 23:59:00','start of month','-1 month') AND strftime('%d',outputevents.charttime) = '02'\n",
            "  - \"11/this year\" refers to November of this year; \"11/2100\" refers to November 2100; \"12/31/this year\" refers to December 31st of this year.\n",
            "    - Examples:\n",
            "      - microbiologyevents in 11/this year: datetime(microbiologyevents.charttime,'start of year') = datetime('2100-12-31 23:59:00','start of year','-0 year') AND strftime('%m',microbiologyevents.charttime) = '11'\n",
            "      - microbiologyevents in 11/2100: strftime('%Y-%m',microbiologyevents.charttime) = '2100-11'\n",
            "      - microbiologyevents on 06/15/this year: datetime(outputevents.charttime,'start of year') = datetime('2100-12-31 23:59:00','start of year','-0 year') AND strftime('%m-%d',outputevents.charttime) = '06-15'\n",
            "  - When a question involves a time window (e.g., \"since\"):\n",
            "    - Example:\n",
            "      - outputevents since 1 year ago: datetime(outputevents.charttime) >= datetime('2100-12-31 23:59:00','-1 year')\n",
            "  - Time Comparison for Two Different Events:\n",
            "    - Examples:\n",
            "      - Same Day: datetime(T1.charttime,'start of day') = datetime(T2.starttime,'start of day')\n",
            "      - Same Month: datetime(T1.charttime,'start of month') = datetime(T2.starttime,'start of month')\n",
            "      - Same Hospital Admission: T1.hadm_id = T2.hadm_id\n",
            "  - A \"current hospital admission/visit/encounter\" refers to records where the hospital discharge time does not exist (indicating a current patient). A \"last hospital visit\" is only if the hospital discharge time is present; the first hospital visit is simply the earliest recorded visit. This rule also applies to ICU admissions and careunit transfers.\n",
            "    - Examples:\n",
            "      - current hospital admission: admissions.dischtime IS NULL\n",
            "      - last hospital admission: admissions.dischtime IS NOT NULL ORDER BY admissions.admittime DESC LIMIT 1\n",
            "      - first hospital admission: admissions.dischtime IS NOT NULL ORDER BY admissions.admittime ASC LIMIT 1\n",
            "- Value Mapping Assumptions (Case-Sensitive):\n",
            "  - Use \"temperature celsius\" for body temperature.\n",
            "  - Use \"o2 saturation pulseoxymetry\" for SaO2.\n",
            "  - Use \"heart rate\" for heart rate.\n",
            "  - Use \"respiratory rate\" for respiration rate.\n",
            "  - Use \"arterial blood pressure systolic\" for systolic blood pressure.\n",
            "  - Use \"arterial blood pressure diastolic\" for diastolic blood pressure.\n",
            "  - Use \"arterial blood pressure mean\" for mean blood pressure.\n",
            "  - Use \"daily weight\" for weight.\n",
            "  - Use \"height (cm)\" for height.\n",
            "  - Use \"m\" for male and \"f\" for female.\n",
            "  - Except for the above, use the value as it is.\n",
            "- Vital-related events are stored in chartevents, not in inputevents or outputevents. Normal ranges for vital signals are as follows:\n",
            "  - body temperature: BETWEEN 35.5 AND 38.1\n",
            "  - SaO2: BETWEEN 95.0 AND 100.0\n",
            "  - heart rate: BETWEEN 60.0 AND 100.0\n",
            "  - respiration rate: BETWEEN 12.0 AND 18.0\n",
            "  - systolic blood pressure: BETWEEN 90.0 AND 120.0\n",
            "  - diastolic blood pressure: BETWEEN 60.0 AND 90.0\n",
            "  - mean blood pressure: BETWEEN 60.0 AND 110.0\n"
          ]
        }
      ]
    },
    {
      "cell_type": "code",
      "source": [
        "# This function loads and processes a database schema from a JSON file.\n",
        "\n",
        "def load_schema(DATASET_JSON):\n",
        "    schema_df = pd.read_json(DATASET_JSON)\n",
        "    schema_df = schema_df.drop(['column_names','table_names'], axis=1)\n",
        "    schema = []\n",
        "    f_keys = []\n",
        "    p_keys = []\n",
        "    for index, row in schema_df.iterrows():\n",
        "        tables = row['table_names_original']\n",
        "        col_names = row['column_names_original']\n",
        "        col_types = row['column_types']\n",
        "        foreign_keys = row['foreign_keys']\n",
        "        primary_keys = row['primary_keys']\n",
        "        for col, col_type in zip(col_names, col_types):\n",
        "            index, col_name = col\n",
        "            if index > -1:\n",
        "                schema.append([row['db_id'], tables[index], col_name, col_type])\n",
        "        for primary_key in primary_keys:\n",
        "            index, column = col_names[primary_key]\n",
        "            p_keys.append([row['db_id'], tables[index], column])\n",
        "        for foreign_key in foreign_keys:\n",
        "            first, second = foreign_key\n",
        "            first_index, first_column = col_names[first]\n",
        "            second_index, second_column = col_names[second]\n",
        "            f_keys.append([row['db_id'], tables[first_index], tables[second_index], first_column, second_column])\n",
        "    db_schema = pd.DataFrame(schema, columns=['Database name', 'Table Name', 'Field Name', 'Type'])\n",
        "    primary_key = pd.DataFrame(p_keys, columns=['Database name', 'Table Name', 'Primary Key'])\n",
        "    foreign_key = pd.DataFrame(f_keys,\n",
        "                        columns=['Database name', 'First Table Name', 'Second Table Name', 'First Table Foreign Key',\n",
        "                                 'Second Table Foreign Key'])\n",
        "    return db_schema, primary_key, foreign_key\n",
        "\n",
        "# Generates a string representation of foreign key relationships in a MySQL-like format for a specific database.\n",
        "def find_foreign_keys_MYSQL_like(foreign, db_id):\n",
        "    df = foreign[foreign['Database name'] == db_id]\n",
        "    output = \"[\"\n",
        "    for index, row in df.iterrows():\n",
        "        output += row['First Table Name'] + '.' + row['First Table Foreign Key'] + \" = \" + row['Second Table Name'] + '.' + row['Second Table Foreign Key'] + ', '\n",
        "    output = output[:-2] + \"]\"\n",
        "    if len(output)==1:\n",
        "        output = '[]'\n",
        "    return output\n",
        "\n",
        "# Creates a string representation of the fields (columns) in each table of a specific database, formatted in a MySQL-like syntax.\n",
        "def find_fields_MYSQL_like(db_schema, db_id):\n",
        "    df = db_schema[db_schema['Database name'] == db_id]\n",
        "    df = df.groupby('Table Name')\n",
        "    output = \"\"\n",
        "    for name, group in df:\n",
        "        output += \"Table \" +name+ ', columns = ['\n",
        "        for index, row in group.iterrows():\n",
        "            output += row[\"Field Name\"]+', '\n",
        "        output = output[:-2]\n",
        "        output += \"]\\n\"\n",
        "    return output\n",
        "\n",
        "# Generates a comprehensive textual prompt describing the database schema, including tables, columns, and foreign key relationships.\n",
        "# Then, add the SQL assumptions for MIMIC-IV\n",
        "def create_schema_prompt(db_id, db_schema, primary_key, foreign_key, is_lower=True):\n",
        "    prompt = find_fields_MYSQL_like(db_schema, db_id)\n",
        "    prompt += \"Foreign_keys = \" + find_foreign_keys_MYSQL_like(foreign_key, db_id)\n",
        "    if is_lower:\n",
        "        prompt = prompt.lower()\n",
        "    prompt += \"\\nSQL Assumptions that you must follow:\\n\" + assumptions\n",
        "    return prompt"
      ],
      "metadata": {
        "id": "LrNlWHgUQ4pB"
      },
      "execution_count": 7,
      "outputs": []
    },
    {
      "cell_type": "markdown",
      "source": [
        "## Step 3: Load Data and Prepare Datasets\n",
        "\n",
        "Now that we have our environment and paths set up, the next step is to load the data and prepare it for our model. This involves preprocessing the MIMIC-IV database, reading the data from JSON files, splitting it into training and validation sets, and then initializing our dataset object."
      ],
      "metadata": {
        "id": "grmmBy9cOwg-"
      }
    },
    {
      "cell_type": "code",
      "source": [
        "from utils import read_json as read_data\n",
        "\n",
        "db_schema, primary_key, foreign_key = load_schema(TABLES_PATH)\n",
        "\n",
        "table_prompt = create_schema_prompt(DB_ID, db_schema, primary_key, foreign_key)"
      ],
      "metadata": {
        "id": "m7rIlLiiOxXq"
      },
      "execution_count": 8,
      "outputs": []
    },
    {
      "cell_type": "markdown",
      "source": [
        "### Data Statistics"
      ],
      "metadata": {
        "id": "HUUETad0PtGf"
      }
    },
    {
      "cell_type": "code",
      "source": [
        "print(\"Valid data:\", (len(valid_data['data']), len(valid_labels)))"
      ],
      "metadata": {
        "colab": {
          "base_uri": "https://localhost:8080/"
        },
        "id": "L2x-VlDWPrLZ",
        "outputId": "f8bdf02d-53c7-4916-8128-9147afcc0960"
      },
      "execution_count": 9,
      "outputs": [
        {
          "output_type": "stream",
          "name": "stdout",
          "text": [
            "Valid data: (20, 20)\n"
          ]
        }
      ]
    },
    {
      "cell_type": "markdown",
      "source": [
        "### Data Format\n",
        "\n",
        "Before proceeding with the model, it is always a good idea to explore the dataset. This includes checking the keys in the dataset, and viewing the first few entries to understand the structure of the data.\n",
        "\n"
      ],
      "metadata": {
        "id": "_MRV2nY_P1C7"
      }
    },
    {
      "cell_type": "code",
      "source": [
        "# Explore keys and data structure\n",
        "print(valid_data.keys())\n",
        "print(valid_labels[list(valid_labels.keys())[0]])"
      ],
      "metadata": {
        "colab": {
          "base_uri": "https://localhost:8080/"
        },
        "id": "sjG8u-kwP6kB",
        "outputId": "25717c86-aa31-4d28-9cbc-291361a4ccfd"
      },
      "execution_count": 10,
      "outputs": [
        {
          "output_type": "stream",
          "name": "stdout",
          "text": [
            "dict_keys(['version', 'data'])\n",
            "SELECT AVG(labevents.valuenum) FROM labevents WHERE labevents.hadm_id IN ( SELECT admissions.hadm_id FROM admissions WHERE admissions.subject_id = 10021487 ) AND labevents.itemid IN ( SELECT d_labitems.itemid FROM d_labitems WHERE d_labitems.label = 'bilirubin, direct' ) AND strftime('%Y-%m',labevents.charttime) >= '2100-05' GROUP BY strftime('%Y-%m',labevents.charttime)\n"
          ]
        }
      ]
    },
    {
      "cell_type": "code",
      "source": [
        "# Prompt for chatGPT containing meta-data of the database such as columns and foreign keys, and SQL assumptions\n",
        "\n",
        "print(table_prompt)"
      ],
      "metadata": {
        "colab": {
          "base_uri": "https://localhost:8080/"
        },
        "id": "iVdZyFYwSSth",
        "outputId": "f6635327-6700-4261-ba6e-070f903a5cac"
      },
      "execution_count": 11,
      "outputs": [
        {
          "output_type": "stream",
          "name": "stdout",
          "text": [
            "table admissions, columns = [row_id, subject_id, hadm_id, admittime, dischtime, admission_type, admission_location, discharge_location, insurance, language, marital_status, age]\n",
            "table chartevents, columns = [row_id, subject_id, hadm_id, stay_id, itemid, charttime, valuenum, valueuom]\n",
            "table cost, columns = [row_id, subject_id, hadm_id, event_type, event_id, chargetime, cost]\n",
            "table d_icd_diagnoses, columns = [row_id, icd_code, long_title]\n",
            "table d_icd_procedures, columns = [row_id, icd_code, long_title]\n",
            "table d_items, columns = [row_id, itemid, label, abbreviation, linksto]\n",
            "table d_labitems, columns = [row_id, itemid, label]\n",
            "table diagnoses_icd, columns = [row_id, subject_id, hadm_id, icd_code, charttime]\n",
            "table icustays, columns = [row_id, subject_id, hadm_id, stay_id, first_careunit, last_careunit, intime, outtime]\n",
            "table inputevents, columns = [row_id, subject_id, hadm_id, stay_id, starttime, itemid, totalamount, totalamountuom]\n",
            "table labevents, columns = [row_id, subject_id, hadm_id, itemid, charttime, valuenum, valueuom]\n",
            "table microbiologyevents, columns = [row_id, subject_id, hadm_id, charttime, spec_type_desc, test_name, org_name]\n",
            "table outputevents, columns = [row_id, subject_id, hadm_id, stay_id, charttime, itemid, value, valueuom]\n",
            "table patients, columns = [row_id, subject_id, gender, dob, dod]\n",
            "table prescriptions, columns = [row_id, subject_id, hadm_id, starttime, stoptime, drug, dose_val_rx, dose_unit_rx, route]\n",
            "table procedures_icd, columns = [row_id, subject_id, hadm_id, icd_code, charttime]\n",
            "table transfers, columns = [row_id, subject_id, hadm_id, transfer_id, eventtype, careunit, intime, outtime]\n",
            "foreign_keys = [admissions.subject_id = patients.subject_id, diagnoses_icd.hadm_id = admissions.hadm_id, diagnoses_icd.icd_code = d_icd_diagnoses.icd_code, procedures_icd.hadm_id = admissions.hadm_id, procedures_icd.icd_code = d_icd_procedures.icd_code, labevents.hadm_id = admissions.hadm_id, labevents.itemid = d_labitems.itemid, prescriptions.hadm_id = admissions.hadm_id, cost.hadm_id = admissions.hadm_id, cost.event_id = diagnoses_icd.row_id, cost.event_id = procedures_icd.row_id, cost.event_id = labevents.row_id, cost.event_id = prescriptions.row_id, chartevents.hadm_id = admissions.hadm_id, chartevents.stay_id = icustays.stay_id, chartevents.itemid = d_items.itemid, inputevents.hadm_id = admissions.hadm_id, inputevents.stay_id = icustays.stay_id, inputevents.itemid = d_items.itemid, outputevents.hadm_id = admissions.hadm_id, outputevents.stay_id = icustays.stay_id, outputevents.itemid = d_items.itemid, microbiologyevents.hadm_id = admissions.hadm_id, icustays.hadm_id = admissions.hadm_id, transfers.hadm_id = admissions.hadm_id]\n",
            "SQL Assumptions that you must follow:\n",
            "- Use SQLite for SQL query generation.\n",
            "- Use DENSE_RANK() when asked for ranking results, but retrieve only the relevant items, excluding their counts or ranks. When the question does not explicitly mention ranking, don't use DENSE_RANK().\n",
            "- For the top N results, return only the relevant items, excluding their counts.\n",
            "- Use DISTINCT in queries related to the cost of events, drug routes, or when counting or listing patients or hospital/ICU visits.\n",
            "- When calculating the total cost, sum the patient’s diagnoses, procedures, lab events, and prescription costs within a single hospital admission only.\n",
            "- Use DISTINCT to retrieve the cost of a single event (diagnosis, procedure, lab event, or prescription).\n",
            "- For cost-related questions, use cost.event_type to specify the event type ('procedures_icd', 'labevents', 'prescriptions', 'diagnoses_icd') when retrieving costs for procedures, lab events, prescriptions, or diagnoses, respectively.\n",
            "- Treat questions that start with \"is it possible,\" \"can you confirm,\" or \"verify\" as true/false questions.\n",
            "- Calculate a patient's age once per hospital admission. The age remains constant even if the hospital stay exceeds one year.\n",
            "- Use inputevents for input-related values and outputevents for output-related values.\n",
            "- Values are table-specific (e.g., \"propofol\" in inputevents will not appear in prescriptions).\n",
            "- When asked about the careunit, refer to the careunit information in the transfer table.\n",
            "- When asked to retrieve procedures, diagnoses, or lab tests, return their names or labels of their medical codes (i.e., procedure: d_icd_procedures.long_title, diagnosis: d_icd_diagnoses.long_title, lab test: d_labitems.label).\n",
            "- When a question involves the time of diagnosis in relation to other types of events, use the first diagnosis time for each patient.\n",
            "- When calculating the N-year survival/mortality rate:\n",
            "  - A patient is considered deceased if a death record exists between their first diagnosis and N years later.\n",
            "  - If no death record exists within N years, or if the death occurs afterward, the patient is considered to have survived.\n",
            "  - Express the result as a percentage or proportion (values between 0 and 1).\n",
            "  - \"3 months\" refers to 365/4 days, and \"6 months\" refers to 365/2 days when calculating a duration.\n",
            "- Time-related SQL operations:\n",
            "  - Use the following information for the current time instead of SQLite's native function.\n",
            "  - Use '2100-12-31 23:59:00' instead of 'now', '2100-12-31' instead of 'today', '2100-12' instead of 'this month', and '2100' instead of 'this year'.\n",
            "    - Examples:\n",
            "      - prescriptions today: datetime(prescriptions.starttime,'start of day') = datetime('2100-12-31 23:59:00','start of day','-0 day')\n",
            "      - prescriptions yesterday: datetime(prescriptions.starttime,'start of day') = datetime('2100-12-31 23:59:00','start of day','-1 day')\n",
            "  - \"this month/02\" and \"last month/02\" refer to the 2nd day of the current and previous month, respectively.\n",
            "    - Examples:\n",
            "      - outputevents on this month/02: datetime(outputevents.charttime,'start of month') = datetime('2100-12-31 23:59:00','start of month','-0 month') AND strftime('%d',outputevents.charttime) = '02'\n",
            "      - outputevents on last month/02: datetime(outputevents.charttime,'start of month') = datetime('2100-12-31 23:59:00','start of month','-1 month') AND strftime('%d',outputevents.charttime) = '02'\n",
            "  - \"11/this year\" refers to November of this year; \"11/2100\" refers to November 2100; \"12/31/this year\" refers to December 31st of this year.\n",
            "    - Examples:\n",
            "      - microbiologyevents in 11/this year: datetime(microbiologyevents.charttime,'start of year') = datetime('2100-12-31 23:59:00','start of year','-0 year') AND strftime('%m',microbiologyevents.charttime) = '11'\n",
            "      - microbiologyevents in 11/2100: strftime('%Y-%m',microbiologyevents.charttime) = '2100-11'\n",
            "      - microbiologyevents on 06/15/this year: datetime(outputevents.charttime,'start of year') = datetime('2100-12-31 23:59:00','start of year','-0 year') AND strftime('%m-%d',outputevents.charttime) = '06-15'\n",
            "  - When a question involves a time window (e.g., \"since\"):\n",
            "    - Example:\n",
            "      - outputevents since 1 year ago: datetime(outputevents.charttime) >= datetime('2100-12-31 23:59:00','-1 year')\n",
            "  - Time Comparison for Two Different Events:\n",
            "    - Examples:\n",
            "      - Same Day: datetime(T1.charttime,'start of day') = datetime(T2.starttime,'start of day')\n",
            "      - Same Month: datetime(T1.charttime,'start of month') = datetime(T2.starttime,'start of month')\n",
            "      - Same Hospital Admission: T1.hadm_id = T2.hadm_id\n",
            "  - A \"current hospital admission/visit/encounter\" refers to records where the hospital discharge time does not exist (indicating a current patient). A \"last hospital visit\" is only if the hospital discharge time is present; the first hospital visit is simply the earliest recorded visit. This rule also applies to ICU admissions and careunit transfers.\n",
            "    - Examples:\n",
            "      - current hospital admission: admissions.dischtime IS NULL\n",
            "      - last hospital admission: admissions.dischtime IS NOT NULL ORDER BY admissions.admittime DESC LIMIT 1\n",
            "      - first hospital admission: admissions.dischtime IS NOT NULL ORDER BY admissions.admittime ASC LIMIT 1\n",
            "- Value Mapping Assumptions (Case-Sensitive):\n",
            "  - Use \"temperature celsius\" for body temperature.\n",
            "  - Use \"o2 saturation pulseoxymetry\" for SaO2.\n",
            "  - Use \"heart rate\" for heart rate.\n",
            "  - Use \"respiratory rate\" for respiration rate.\n",
            "  - Use \"arterial blood pressure systolic\" for systolic blood pressure.\n",
            "  - Use \"arterial blood pressure diastolic\" for diastolic blood pressure.\n",
            "  - Use \"arterial blood pressure mean\" for mean blood pressure.\n",
            "  - Use \"daily weight\" for weight.\n",
            "  - Use \"height (cm)\" for height.\n",
            "  - Use \"m\" for male and \"f\" for female.\n",
            "  - Except for the above, use the value as it is.\n",
            "- Vital-related events are stored in chartevents, not in inputevents or outputevents. Normal ranges for vital signals are as follows:\n",
            "  - body temperature: BETWEEN 35.5 AND 38.1\n",
            "  - SaO2: BETWEEN 95.0 AND 100.0\n",
            "  - heart rate: BETWEEN 60.0 AND 100.0\n",
            "  - respiration rate: BETWEEN 12.0 AND 18.0\n",
            "  - systolic blood pressure: BETWEEN 90.0 AND 120.0\n",
            "  - diastolic blood pressure: BETWEEN 60.0 AND 90.0\n",
            "  - mean blood pressure: BETWEEN 60.0 AND 110.0\n"
          ]
        }
      ]
    },
    {
      "cell_type": "markdown",
      "source": [
        "## Step 4: Building a predictive model using chatGPT"
      ],
      "metadata": {
        "id": "uFY6RgyFSVgM"
      }
    },
    {
      "cell_type": "code",
      "source": [
        "# Save your api key into json file\n",
        "import json\n",
        "\n",
        "api_path = 'sample_submission_chatgpt_api_key.json'\n",
        "json_data = {}\n",
        "json_data['key'] = new_api_key\n",
        "with open(api_path, 'w') as file:\n",
        "    json.dump(json_data, file, indent=4)"
      ],
      "metadata": {
        "id": "nhtcBmB-iuPo"
      },
      "execution_count": 12,
      "outputs": []
    },
    {
      "cell_type": "code",
      "source": [
        "import os\n",
        "import re\n",
        "import json\n",
        "import tiktoken\n",
        "\n",
        "import openai\n",
        "from openai import OpenAI\n",
        "\n",
        "client = OpenAI(api_key=json_data['key'])\n",
        "\n",
        "def post_process(answer):\n",
        "    answer = answer.replace('\\n', ' ')\n",
        "    answer = re.sub('[ ]+', ' ', answer)\n",
        "    answer = answer.replace(\"```sql\", \"\").replace(\"```\", \"\").strip()\n",
        "    return answer\n",
        "\n",
        "class Model():\n",
        "    def __init__(self):\n",
        "        current_real_dir = os.getcwd()\n",
        "        # current_real_dir = os.path.dirname(os.path.realpath(__file__))\n",
        "        target_dir = os.path.join(current_real_dir, 'sample_submission_chatgpt_api_key.json')\n",
        "\n",
        "        if os.path.isfile(target_dir):\n",
        "            with open(target_dir, 'rb') as f:\n",
        "                openai.api_key = json.load(f)['key']\n",
        "        if not os.path.isfile(target_dir) or openai.api_key == \"\":\n",
        "            raise Exception(\"Error: no API key file found.\")\n",
        "\n",
        "    def ask_chatgpt(self, prompt, model=\"gpt-4o-mini\", temperature=0.6):\n",
        "        response = client.chat.completions.create(\n",
        "                    model=model,\n",
        "                    temperature=temperature,\n",
        "                    messages=prompt\n",
        "                )\n",
        "        return response.choices[0].message.content\n",
        "\n",
        "    def generate(self, input_data):\n",
        "        \"\"\"\n",
        "        Arguments:\n",
        "            input_data: list of python dictionaries containing 'id' and 'input'\n",
        "        Returns:\n",
        "            labels: python dictionary containing sql prediction or 'null' values associated with ids\n",
        "        \"\"\"\n",
        "\n",
        "        labels = {}\n",
        "\n",
        "        for sample in tqdm(input_data):\n",
        "            answer = self.ask_chatgpt(sample['input'])\n",
        "            labels[sample[\"id\"]] = post_process(answer)\n",
        "\n",
        "        return labels"
      ],
      "metadata": {
        "id": "oYtBKk5iSXmW"
      },
      "execution_count": 13,
      "outputs": []
    },
    {
      "cell_type": "code",
      "source": [
        "myModel = Model()\n",
        "data = valid_data[\"data\"]"
      ],
      "metadata": {
        "id": "1KF30SxDgTOJ"
      },
      "execution_count": 14,
      "outputs": []
    },
    {
      "cell_type": "code",
      "source": [
        "# System prompt for chatGPT\n",
        "system_msg = \"Given the following SQL tables and SQL assumptions you must follow, your job is to write queries given a user’s request.\\n IMPORTANT: If you think you cannot predict the SQL accurately, you must answer with 'null'.\""
      ],
      "metadata": {
        "id": "w7SYpvvigVw6"
      },
      "execution_count": 15,
      "outputs": []
    },
    {
      "cell_type": "code",
      "source": [
        "input_data = []\n",
        "for sample in data:\n",
        "    sample_dict = {}\n",
        "    sample_dict['id'] = sample['id']\n",
        "    conversation = [{\"role\": \"system\", \"content\": system_msg + '\\n\\n' + table_prompt}]\n",
        "    user_question_wrapper = lambda question: '\\n\\n' + f\"\"\"NLQ: \\\"{question}\\\"\\nSQL: \"\"\"\n",
        "    conversation.append({\"role\": \"user\", \"content\": user_question_wrapper(sample['question'])})\n",
        "    sample_dict['input'] = conversation\n",
        "    input_data.append(sample_dict)"
      ],
      "metadata": {
        "id": "yEHYS67WGt_M"
      },
      "execution_count": 16,
      "outputs": []
    },
    {
      "cell_type": "code",
      "source": [
        "# First message\n",
        "print(conversation[0]['content'])"
      ],
      "metadata": {
        "colab": {
          "base_uri": "https://localhost:8080/"
        },
        "id": "6ixE5GuRgX0T",
        "outputId": "e7cff927-503a-4e9a-e956-12ddf71b4b44"
      },
      "execution_count": 17,
      "outputs": [
        {
          "output_type": "stream",
          "name": "stdout",
          "text": [
            "Given the following SQL tables and SQL assumptions you must follow, your job is to write queries given a user’s request.\n",
            " IMPORTANT: If you think you cannot predict the SQL accurately, you must answer with 'null'.\n",
            "\n",
            "table admissions, columns = [row_id, subject_id, hadm_id, admittime, dischtime, admission_type, admission_location, discharge_location, insurance, language, marital_status, age]\n",
            "table chartevents, columns = [row_id, subject_id, hadm_id, stay_id, itemid, charttime, valuenum, valueuom]\n",
            "table cost, columns = [row_id, subject_id, hadm_id, event_type, event_id, chargetime, cost]\n",
            "table d_icd_diagnoses, columns = [row_id, icd_code, long_title]\n",
            "table d_icd_procedures, columns = [row_id, icd_code, long_title]\n",
            "table d_items, columns = [row_id, itemid, label, abbreviation, linksto]\n",
            "table d_labitems, columns = [row_id, itemid, label]\n",
            "table diagnoses_icd, columns = [row_id, subject_id, hadm_id, icd_code, charttime]\n",
            "table icustays, columns = [row_id, subject_id, hadm_id, stay_id, first_careunit, last_careunit, intime, outtime]\n",
            "table inputevents, columns = [row_id, subject_id, hadm_id, stay_id, starttime, itemid, totalamount, totalamountuom]\n",
            "table labevents, columns = [row_id, subject_id, hadm_id, itemid, charttime, valuenum, valueuom]\n",
            "table microbiologyevents, columns = [row_id, subject_id, hadm_id, charttime, spec_type_desc, test_name, org_name]\n",
            "table outputevents, columns = [row_id, subject_id, hadm_id, stay_id, charttime, itemid, value, valueuom]\n",
            "table patients, columns = [row_id, subject_id, gender, dob, dod]\n",
            "table prescriptions, columns = [row_id, subject_id, hadm_id, starttime, stoptime, drug, dose_val_rx, dose_unit_rx, route]\n",
            "table procedures_icd, columns = [row_id, subject_id, hadm_id, icd_code, charttime]\n",
            "table transfers, columns = [row_id, subject_id, hadm_id, transfer_id, eventtype, careunit, intime, outtime]\n",
            "foreign_keys = [admissions.subject_id = patients.subject_id, diagnoses_icd.hadm_id = admissions.hadm_id, diagnoses_icd.icd_code = d_icd_diagnoses.icd_code, procedures_icd.hadm_id = admissions.hadm_id, procedures_icd.icd_code = d_icd_procedures.icd_code, labevents.hadm_id = admissions.hadm_id, labevents.itemid = d_labitems.itemid, prescriptions.hadm_id = admissions.hadm_id, cost.hadm_id = admissions.hadm_id, cost.event_id = diagnoses_icd.row_id, cost.event_id = procedures_icd.row_id, cost.event_id = labevents.row_id, cost.event_id = prescriptions.row_id, chartevents.hadm_id = admissions.hadm_id, chartevents.stay_id = icustays.stay_id, chartevents.itemid = d_items.itemid, inputevents.hadm_id = admissions.hadm_id, inputevents.stay_id = icustays.stay_id, inputevents.itemid = d_items.itemid, outputevents.hadm_id = admissions.hadm_id, outputevents.stay_id = icustays.stay_id, outputevents.itemid = d_items.itemid, microbiologyevents.hadm_id = admissions.hadm_id, icustays.hadm_id = admissions.hadm_id, transfers.hadm_id = admissions.hadm_id]\n",
            "SQL Assumptions that you must follow:\n",
            "- Use SQLite for SQL query generation.\n",
            "- Use DENSE_RANK() when asked for ranking results, but retrieve only the relevant items, excluding their counts or ranks. When the question does not explicitly mention ranking, don't use DENSE_RANK().\n",
            "- For the top N results, return only the relevant items, excluding their counts.\n",
            "- Use DISTINCT in queries related to the cost of events, drug routes, or when counting or listing patients or hospital/ICU visits.\n",
            "- When calculating the total cost, sum the patient’s diagnoses, procedures, lab events, and prescription costs within a single hospital admission only.\n",
            "- Use DISTINCT to retrieve the cost of a single event (diagnosis, procedure, lab event, or prescription).\n",
            "- For cost-related questions, use cost.event_type to specify the event type ('procedures_icd', 'labevents', 'prescriptions', 'diagnoses_icd') when retrieving costs for procedures, lab events, prescriptions, or diagnoses, respectively.\n",
            "- Treat questions that start with \"is it possible,\" \"can you confirm,\" or \"verify\" as true/false questions.\n",
            "- Calculate a patient's age once per hospital admission. The age remains constant even if the hospital stay exceeds one year.\n",
            "- Use inputevents for input-related values and outputevents for output-related values.\n",
            "- Values are table-specific (e.g., \"propofol\" in inputevents will not appear in prescriptions).\n",
            "- When asked about the careunit, refer to the careunit information in the transfer table.\n",
            "- When asked to retrieve procedures, diagnoses, or lab tests, return their names or labels of their medical codes (i.e., procedure: d_icd_procedures.long_title, diagnosis: d_icd_diagnoses.long_title, lab test: d_labitems.label).\n",
            "- When a question involves the time of diagnosis in relation to other types of events, use the first diagnosis time for each patient.\n",
            "- When calculating the N-year survival/mortality rate:\n",
            "  - A patient is considered deceased if a death record exists between their first diagnosis and N years later.\n",
            "  - If no death record exists within N years, or if the death occurs afterward, the patient is considered to have survived.\n",
            "  - Express the result as a percentage or proportion (values between 0 and 1).\n",
            "  - \"3 months\" refers to 365/4 days, and \"6 months\" refers to 365/2 days when calculating a duration.\n",
            "- Time-related SQL operations:\n",
            "  - Use the following information for the current time instead of SQLite's native function.\n",
            "  - Use '2100-12-31 23:59:00' instead of 'now', '2100-12-31' instead of 'today', '2100-12' instead of 'this month', and '2100' instead of 'this year'.\n",
            "    - Examples:\n",
            "      - prescriptions today: datetime(prescriptions.starttime,'start of day') = datetime('2100-12-31 23:59:00','start of day','-0 day')\n",
            "      - prescriptions yesterday: datetime(prescriptions.starttime,'start of day') = datetime('2100-12-31 23:59:00','start of day','-1 day')\n",
            "  - \"this month/02\" and \"last month/02\" refer to the 2nd day of the current and previous month, respectively.\n",
            "    - Examples:\n",
            "      - outputevents on this month/02: datetime(outputevents.charttime,'start of month') = datetime('2100-12-31 23:59:00','start of month','-0 month') AND strftime('%d',outputevents.charttime) = '02'\n",
            "      - outputevents on last month/02: datetime(outputevents.charttime,'start of month') = datetime('2100-12-31 23:59:00','start of month','-1 month') AND strftime('%d',outputevents.charttime) = '02'\n",
            "  - \"11/this year\" refers to November of this year; \"11/2100\" refers to November 2100; \"12/31/this year\" refers to December 31st of this year.\n",
            "    - Examples:\n",
            "      - microbiologyevents in 11/this year: datetime(microbiologyevents.charttime,'start of year') = datetime('2100-12-31 23:59:00','start of year','-0 year') AND strftime('%m',microbiologyevents.charttime) = '11'\n",
            "      - microbiologyevents in 11/2100: strftime('%Y-%m',microbiologyevents.charttime) = '2100-11'\n",
            "      - microbiologyevents on 06/15/this year: datetime(outputevents.charttime,'start of year') = datetime('2100-12-31 23:59:00','start of year','-0 year') AND strftime('%m-%d',outputevents.charttime) = '06-15'\n",
            "  - When a question involves a time window (e.g., \"since\"):\n",
            "    - Example:\n",
            "      - outputevents since 1 year ago: datetime(outputevents.charttime) >= datetime('2100-12-31 23:59:00','-1 year')\n",
            "  - Time Comparison for Two Different Events:\n",
            "    - Examples:\n",
            "      - Same Day: datetime(T1.charttime,'start of day') = datetime(T2.starttime,'start of day')\n",
            "      - Same Month: datetime(T1.charttime,'start of month') = datetime(T2.starttime,'start of month')\n",
            "      - Same Hospital Admission: T1.hadm_id = T2.hadm_id\n",
            "  - A \"current hospital admission/visit/encounter\" refers to records where the hospital discharge time does not exist (indicating a current patient). A \"last hospital visit\" is only if the hospital discharge time is present; the first hospital visit is simply the earliest recorded visit. This rule also applies to ICU admissions and careunit transfers.\n",
            "    - Examples:\n",
            "      - current hospital admission: admissions.dischtime IS NULL\n",
            "      - last hospital admission: admissions.dischtime IS NOT NULL ORDER BY admissions.admittime DESC LIMIT 1\n",
            "      - first hospital admission: admissions.dischtime IS NOT NULL ORDER BY admissions.admittime ASC LIMIT 1\n",
            "- Value Mapping Assumptions (Case-Sensitive):\n",
            "  - Use \"temperature celsius\" for body temperature.\n",
            "  - Use \"o2 saturation pulseoxymetry\" for SaO2.\n",
            "  - Use \"heart rate\" for heart rate.\n",
            "  - Use \"respiratory rate\" for respiration rate.\n",
            "  - Use \"arterial blood pressure systolic\" for systolic blood pressure.\n",
            "  - Use \"arterial blood pressure diastolic\" for diastolic blood pressure.\n",
            "  - Use \"arterial blood pressure mean\" for mean blood pressure.\n",
            "  - Use \"daily weight\" for weight.\n",
            "  - Use \"height (cm)\" for height.\n",
            "  - Use \"m\" for male and \"f\" for female.\n",
            "  - Except for the above, use the value as it is.\n",
            "- Vital-related events are stored in chartevents, not in inputevents or outputevents. Normal ranges for vital signals are as follows:\n",
            "  - body temperature: BETWEEN 35.5 AND 38.1\n",
            "  - SaO2: BETWEEN 95.0 AND 100.0\n",
            "  - heart rate: BETWEEN 60.0 AND 100.0\n",
            "  - respiration rate: BETWEEN 12.0 AND 18.0\n",
            "  - systolic blood pressure: BETWEEN 90.0 AND 120.0\n",
            "  - diastolic blood pressure: BETWEEN 60.0 AND 90.0\n",
            "  - mean blood pressure: BETWEEN 60.0 AND 110.0\n"
          ]
        }
      ]
    },
    {
      "cell_type": "code",
      "source": [
        "# Second message\n",
        "\n",
        "print(conversation[1]['content'])"
      ],
      "metadata": {
        "colab": {
          "base_uri": "https://localhost:8080/"
        },
        "id": "JD0CRSiUgZJd",
        "outputId": "128fdddd-04b9-495e-de0f-a8840888a57d"
      },
      "execution_count": 18,
      "outputs": [
        {
          "output_type": "stream",
          "name": "stdout",
          "text": [
            "\n",
            "\n",
            "NLQ: \"How was patient 10006053 first admitted to the hospital in terms of admission type?\"\n",
            "SQL: \n"
          ]
        }
      ]
    },
    {
      "cell_type": "code",
      "source": [
        "# Generate answer(SQL) from chatGPT\n",
        "label_y = myModel.generate(input_data)"
      ],
      "metadata": {
        "id": "i7VkY7y1gaW7",
        "colab": {
          "base_uri": "https://localhost:8080/"
        },
        "outputId": "50c15c09-5f5e-4447-fae6-761e921a1703"
      },
      "execution_count": 19,
      "outputs": [
        {
          "output_type": "stream",
          "name": "stderr",
          "text": [
            "100%|██████████| 20/20 [00:26<00:00,  1.34s/it]\n"
          ]
        }
      ]
    },
    {
      "cell_type": "markdown",
      "source": [
        "Below is how the predicted labels(SQLs) look like. **This should be your submission.**"
      ],
      "metadata": {
        "id": "Tvice6Gsu-hK"
      }
    },
    {
      "cell_type": "code",
      "source": [
        "label_y"
      ],
      "metadata": {
        "colab": {
          "base_uri": "https://localhost:8080/"
        },
        "id": "vDiQKx4Wgb8C",
        "outputId": "de9c4fda-ec00-4379-bce4-b200b248945a"
      },
      "execution_count": 20,
      "outputs": [
        {
          "output_type": "execute_result",
          "data": {
            "text/plain": [
              "{'b9c136c1e1d19649caabdeb4': \"SELECT AVG(labevents.valuenum) AS average_bilirubin FROM labevents JOIN d_labitems ON labevents.itemid = d_labitems.itemid WHERE labevents.hadm_id IN ( SELECT hadm_id FROM admissions WHERE subject_id = 10021487 ) AND d_labitems.label = 'Bilirubin, Direct' AND labevents.charttime >= datetime('2100-05-01') GROUP BY strftime('%Y-%m', labevents.charttime);\",\n",
              " 'b389e224ed07b11a553f0329': 'SELECT DISTINCT d_icd_diagnoses.long_title FROM diagnoses_icd JOIN d_icd_diagnoses ON diagnoses_icd.icd_code = d_icd_diagnoses.icd_code WHERE diagnoses_icd.subject_id = 10001217 ORDER BY diagnoses_icd.charttime LIMIT 1;',\n",
              " '0845eda9197d9666e0b3a017': \"WITH ICU_Visits AS ( SELECT icustays.hadm_id, chartevents.charttime, chartevents.valuenum, DENSE_RANK() OVER (PARTITION BY icustays.hadm_id ORDER BY chartevents.charttime) AS visit_rank FROM icustays JOIN chartevents ON icustays.stay_id = chartevents.stay_id WHERE chartevents.itemid = (SELECT itemid FROM d_items WHERE label = 'arterial blood pressure diastolic') AND icustays.subject_id = 10021118 ) SELECT CASE WHEN MAX(CASE WHEN visit_rank = 1 THEN valuenum END) > MAX(CASE WHEN visit_rank = 2 THEN valuenum END) THEN 'true' ELSE 'false' END AS result FROM ICU_Visits;\",\n",
              " '423e62850dbf99ad88d4c834': \"SELECT DISTINCT prescriptions.drug FROM prescriptions JOIN procedures_icd ON prescriptions.hadm_id = procedures_icd.hadm_id JOIN d_icd_procedures ON procedures_icd.icd_code = d_icd_procedures.icd_code JOIN admissions ON prescriptions.hadm_id = admissions.hadm_id WHERE admissions.subject_id = 10004235 AND d_icd_procedures.long_title = 'Laparoscopic Robotic Assisted Procedure' AND prescriptions.starttime > datetime('2100-03-31 23:59:00') AND admissions.dischtime IS NULL AND prescriptions.starttime >= admissions.admittime;\",\n",
              " 'ad08e146a6e37e3a138c8c78': \"SELECT DISTINCT prescriptions.drug FROM prescriptions JOIN admissions ON prescriptions.hadm_id = admissions.hadm_id WHERE admissions.subject_id = 10020944 AND prescriptions.route = 'iv' AND prescriptions.starttime = ( SELECT MIN(starttime) FROM prescriptions AS p JOIN admissions AS a ON p.hadm_id = a.hadm_id WHERE a.subject_id = 10020944 ) ORDER BY prescriptions.starttime LIMIT 1;\",\n",
              " '82fed921fe732e9851109fa0': 'SELECT MAX(admittime) FROM admissions WHERE subject_id = 10016150 AND dischtime IS NOT NULL;',\n",
              " 'b1f43697c74666c4701854b3': \"SELECT ROUND((julianday('2100-12-31 23:59:00') - julianday(icustays.intime)) * 24, 2) AS hours_elapsed FROM icustays WHERE subject_id = 10018081;\",\n",
              " '9cd37fc842ad70310d54ee58': \"SELECT DISTINCT labevents.valuenum AS first_weight FROM labevents JOIN admissions ON labevents.hadm_id = admissions.hadm_id WHERE labevents.itemid = (SELECT itemid FROM d_labitems WHERE label = 'daily weight') AND admissions.subject_id = 10027602 AND labevents.charttime >= datetime('2100-12-31 23:59:00','-5 months') ORDER BY labevents.charttime ASC LIMIT 1;\",\n",
              " '0e38c978a69e475449c84fee': 'SELECT gender FROM patients WHERE subject_id = 10037975;',\n",
              " '2766c75e65819b7cf9c0fba2': \"SELECT DISTINCT labevents.label FROM outputevents JOIN labevents ON outputevents.itemid = labevents.itemid WHERE outputevents.subject_id = 10020944 AND datetime(outputevents.charttime) >= datetime('2100-03-04') ORDER BY outputevents.charttime DESC LIMIT 1;\",\n",
              " 'f7e273153edfeb72b98bd9c7': \"SELECT MAX(labevents.charttime) AS last_lab_test_time FROM labevents WHERE labevents.hadm_id IN ( SELECT hadm_id FROM admissions WHERE subject_id = 10009628 ) AND datetime(labevents.charttime,'start of year') = datetime('2100-12-31 23:59:00','start of year','-0 year') AND strftime('%m', labevents.charttime) = '10';\",\n",
              " '49096da9fc4db23df0c9ca94': \"SELECT MAX(CASE WHEN rn = 1 THEN valuenum END) AS last_value, MAX(CASE WHEN rn = 2 THEN valuenum END) AS second_last_value FROM ( SELECT ce.valuenum, DENSE_RANK() OVER (PARTITION BY ce.subject_id, ce.hadm_id ORDER BY ce.charttime DESC) AS rn FROM chartevents ce JOIN icustays is ON ce.hadm_id = is.hadm_id WHERE ce.itemid = (SELECT itemid FROM d_items WHERE label = 'respiratory rate') AND is.subject_id = 10038999 AND is.outtime IS NULL ) ranked_values WHERE rn <= 2;\",\n",
              " 'f92a9715af7d181a656d4998': \"SELECT COUNT(DISTINCT subject_id) FROM admissions WHERE dischtime >= datetime('2100-12-31 23:59:00', '-1 year') AND dischtime IS NOT NULL;\",\n",
              " '61158e9ccd8015f7898cb6e8': 'SELECT DISTINCT d_icd_procedures.long_title FROM procedures_icd JOIN d_icd_procedures ON procedures_icd.icd_code = d_icd_procedures.icd_code JOIN admissions ON procedures_icd.hadm_id = admissions.hadm_id WHERE admissions.age BETWEEN 20 AND 29 GROUP BY d_icd_procedures.long_title ORDER BY COUNT(*) DESC LIMIT 4;',\n",
              " 'fc9243a5cde088d80aaae29a': \"SELECT (julianday('2100-12-31 23:59:00') - julianday(MIN(labevents.charttime))) * 24 AS hours_passed FROM labevents JOIN admissions ON labevents.hadm_id = admissions.hadm_id WHERE admissions.subject_id = 10021487 AND admissions.dischtime IS NULL AND labevents.itemid = (SELECT itemid FROM d_labitems WHERE label = 'aspartate aminotransferase (ast)')\",\n",
              " '23dd8572482a3b9ef2437c37': \"SELECT julianday('2100-12-31 23:59:00') - julianday(MIN(labevents.charttime)) AS days_passed FROM labevents JOIN admissions ON labevents.hadm_id = admissions.hadm_id WHERE admissions.subject_id = 10018081 AND labevents.itemid IN (SELECT itemid FROM d_labitems WHERE label = 'po2') AND admissions.dischtime IS NULL GROUP BY labevents.hadm_id;\",\n",
              " 'b3baba0d3d4a30996c8d7040': \"SELECT DISTINCT drug FROM prescriptions WHERE subject_id = 10020944 AND datetime(starttime, 'start of month') = datetime('2100-03-01', 'start of month') AND drug LIKE '%glucose gel%';\",\n",
              " 'd081d7e2db7e69a70b388b51': 'SELECT DISTINCT p.subject_id FROM admissions a JOIN procedures_icd pi ON a.hadm_id = pi.hadm_id JOIN patients p ON a.subject_id = p.subject_id WHERE p.subject_id = 10009035 AND a.dischtime IS NOT NULL AND a.admittime = (SELECT MIN(admittime) FROM admissions WHERE subject_id = 10009035);',\n",
              " 'a49efc1cdf3ebbe617aa7d26': \"SELECT DISTINCT microbiologyevents.test_name FROM microbiologyevents WHERE microbiologyevents.hadm_id IN ( SELECT hadm_id FROM admissions WHERE subject_id = 10008454 ) AND datetime(microbiologyevents.charttime,'start of year') = datetime('2100-12-31 23:59:00','start of year','-0 year') AND strftime('%m', microbiologyevents.charttime) = '12' ORDER BY microbiologyevents.charttime DESC LIMIT 1;\",\n",
              " '60f8d59c27fe673230ac2a83': 'SELECT admission_type FROM admissions WHERE subject_id = 10006053 ORDER BY admittime LIMIT 1;'}"
            ]
          },
          "metadata": {},
          "execution_count": 20
        }
      ]
    },
    {
      "cell_type": "code",
      "source": [],
      "metadata": {
        "id": "IIrqHeW__4am"
      },
      "execution_count": 20,
      "outputs": []
    },
    {
      "cell_type": "code",
      "source": [
        "from utils import write_json as write_label\n",
        "\n",
        "# Save the filtered predictions to a JSON file\n",
        "os.makedirs(RESULT_DIR, exist_ok=True)\n",
        "SCORING_OUTPUT_DIR = os.path.join(RESULT_DIR, '20240000.json') # The file to submit\n",
        "write_label(SCORING_OUTPUT_DIR, label_y)\n",
        "\n",
        "# Verify the file creation\n",
        "print(\"Listing files in RESULT_DIR:\")\n",
        "!ls {RESULT_DIR}"
      ],
      "metadata": {
        "colab": {
          "base_uri": "https://localhost:8080/"
        },
        "id": "hUMTiYl4hdt_",
        "outputId": "629e978a-fd8a-4656-afb7-487bfc645028"
      },
      "execution_count": 21,
      "outputs": [
        {
          "output_type": "stream",
          "name": "stdout",
          "text": [
            "Listing files in RESULT_DIR:\n",
            "20240000.json\n"
          ]
        }
      ]
    },
    {
      "cell_type": "markdown",
      "source": [
        "## Step 5: Evaluation\n",
        "\n",
        "You can evaluate your own valid set using the following code:\n",
        "\n",
        "*Note*: The risk for questions that are not answerable is 0 here since there are no such data in the valid set."
      ],
      "metadata": {
        "id": "nJT6jj7WiAkM"
      }
    },
    {
      "cell_type": "code",
      "source": [
        "from scoring.scorer import Scorer\n",
        "with open(\"data/valid_data.json\", \"r\") as f:\n",
        "    data = json.load(f)\n",
        "\n",
        "with open(\"data/valid_label.json\", \"r\") as f:\n",
        "    gold_labels = json.load(f)\n",
        "\n",
        "with open(\"results/20240000.json\", \"r\") as f:\n",
        "    predictions = json.load(f)\n",
        "scorer = Scorer(\n",
        "    data=data,\n",
        "    predictions=label_y,\n",
        "    gold_labels=valid_labels,\n",
        "    score_dir=\"results\"\n",
        ")\n",
        "print()\n",
        "print(scorer.get_scores())"
      ],
      "metadata": {
        "colab": {
          "base_uri": "https://localhost:8080/"
        },
        "id": "Y1NU-hSiAUMo",
        "outputId": "7ae5ea11-5c67-40b8-9704-7cef68841f72"
      },
      "execution_count": 22,
      "outputs": [
        {
          "output_type": "stream",
          "name": "stdout",
          "text": [
            "\n"
          ]
        },
        {
          "output_type": "stream",
          "name": "stderr",
          "text": [
            "100%|██████████| 20/20 [00:00<00:00, 83.70it/s]"
          ]
        },
        {
          "output_type": "stream",
          "name": "stdout",
          "text": [
            "No data for risk_notans. This happens when there is no `notans` questions in the evaluation dataset. This metric will be ignored when calculating the final score. This will not happen when evaluating on the test set.\n",
            "====================================================================================================\n",
            "Coverage for answerable questions (in %): 100.0 || 20/20\n",
            "Risk for answerable questions (in %): 55.0 || 11/20\n",
            "Risk for unanswerable questions (in %): None || 0/0\n",
            "Final score: 72.5\n",
            "====================================================================================================\n",
            "{'cov_ans*100': 100.0, 'risk_ans*100': 55.0, 'risk_notans*100': None, 'final_score': 72.5}\n"
          ]
        },
        {
          "output_type": "stream",
          "name": "stderr",
          "text": [
            "\n"
          ]
        }
      ]
    }
  ]
}